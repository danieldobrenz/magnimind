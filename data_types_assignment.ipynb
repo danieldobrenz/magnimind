{
 "cells": [
  {
   "cell_type": "markdown",
   "id": "02fae810-503b-472b-b259-7770f381bbe9",
   "metadata": {},
   "source": [
    "# Data Types Assignment and Submit"
   ]
  },
  {
   "cell_type": "markdown",
   "id": "0a2e2ff3-cd05-4b2f-a47e-3372362f030b",
   "metadata": {},
   "source": [
    "### 1. Suppose you invested in Bitcoin at the end of 2020 when Bitcoin gained a lot of value. What would be your money at the end of a week if you had invested $1000 with an average daily increase of 12% ? You can solve the problem using Python."
   ]
  },
  {
   "cell_type": "code",
   "execution_count": 18,
   "id": "cf31658a-6178-4b93-b431-3948a0ad4b6e",
   "metadata": {},
   "outputs": [],
   "source": [
    "capital = 1000\n",
    "daily_growth = 0.12\n",
    "number_of_days = 7"
   ]
  },
  {
   "cell_type": "code",
   "execution_count": 19,
   "id": "f9aed2ce-2bef-40b8-8190-927469bfc3ec",
   "metadata": {},
   "outputs": [],
   "source": [
    "final = capital * ((1 + daily_growth) ** number_of_days)"
   ]
  },
  {
   "cell_type": "code",
   "execution_count": 20,
   "id": "ea61ad16-c091-442a-8243-9cf2055d4e41",
   "metadata": {},
   "outputs": [
    {
     "data": {
      "text/plain": [
       "2210.6814074060812"
      ]
     },
     "execution_count": 20,
     "metadata": {},
     "output_type": "execute_result"
    }
   ],
   "source": [
    "final"
   ]
  },
  {
   "cell_type": "code",
   "execution_count": 21,
   "id": "9347df4c-ede4-4100-94dc-afcc686a83c1",
   "metadata": {},
   "outputs": [
    {
     "data": {
      "text/plain": [
       "2210.68"
      ]
     },
     "execution_count": 21,
     "metadata": {},
     "output_type": "execute_result"
    }
   ],
   "source": [
    "round(final,2)"
   ]
  },
  {
   "cell_type": "markdown",
   "id": "85ef1537-91ad-49f5-8e3b-c57761022537",
   "metadata": {},
   "source": [
    "### 2. Print the text in quotes with Python. However, you must get the numbers from variables using .format() notation. Because the text is long, you might consider writing in two lines:\n",
    "\n",
    "\"When we buy bitcoin with 1000 USD at the beginning of the week, we would earn 1210.68 USD at the end of the week, with an average gain of 12\\%.\""
   ]
  },
  {
   "cell_type": "code",
   "execution_count": 27,
   "id": "368ec2ef-a025-4867-8ace-e2a67da7dcae",
   "metadata": {},
   "outputs": [
    {
     "data": {
      "text/plain": [
       "'When we buy bitcoin with 1000 USD at the beginning of the week, we would earn 1210.68 USD at the end of the week, with an average gain of 12%'"
      ]
     },
     "execution_count": 27,
     "metadata": {},
     "output_type": "execute_result"
    }
   ],
   "source": [
    "('When we buy bitcoin with {d1} USD at the beginning of the week, we would earn {d2} USD at the end of the week, with an average gain of {p}'.format(d1='1000',d2='1210.68',p='12%'))"
   ]
  },
  {
   "cell_type": "markdown",
   "id": "33af05dc-23f2-4333-af2c-66a78ebe6729",
   "metadata": {},
   "source": [
    "### 3. Get the temperature in Fahrenheit from user and write a code to convert it to Celcius. For conversion, you can use this formula: C = (5/9) * (F - 32)\n",
    "\n",
    "Enter the temperature in Fahrenheit:"
   ]
  },
  {
   "cell_type": "code",
   "execution_count": 28,
   "id": "bb9f1e18-c521-4a23-a047-c6eab8d6d6b0",
   "metadata": {},
   "outputs": [],
   "source": [
    "temp = 26"
   ]
  },
  {
   "cell_type": "code",
   "execution_count": 29,
   "id": "7c72192b-a3d1-4c53-bdaf-0a24d9f6b5ab",
   "metadata": {},
   "outputs": [],
   "source": [
    "celcius = (5/9) * (temp - 32)"
   ]
  },
  {
   "cell_type": "code",
   "execution_count": 46,
   "id": "d5bdaa1a-9a64-47ef-b40d-2cae0142edfc",
   "metadata": {},
   "outputs": [
    {
     "data": {
      "text/plain": [
       "'26 degrees Fahrenheit coverted to Celcius is -3'"
      ]
     },
     "execution_count": 46,
     "metadata": {},
     "output_type": "execute_result"
    }
   ],
   "source": [
    "('{t} degrees Fahrenheit coverted to Celcius is {c}'.format(t=temp,c=round(celcius)))"
   ]
  },
  {
   "cell_type": "markdown",
   "id": "1bae7c3a-4f92-4536-b20a-85a4f545698c",
   "metadata": {},
   "source": [
    "### 4. Get a three digit number the from user and calculate the sum of the digits in the integer."
   ]
  },
  {
   "cell_type": "code",
   "execution_count": 47,
   "id": "61b0f1f4-33ca-490c-a924-aad8f46f5ff4",
   "metadata": {},
   "outputs": [],
   "source": [
    "number = 365"
   ]
  },
  {
   "cell_type": "code",
   "execution_count": 49,
   "id": "c0561ad0-e27c-43a9-9d33-f4e8320aaaeb",
   "metadata": {},
   "outputs": [],
   "source": [
    "total = 3 + 6 + 5"
   ]
  },
  {
   "cell_type": "code",
   "execution_count": 74,
   "id": "c6ae455e-cf7e-40a7-a739-551a87cad10d",
   "metadata": {},
   "outputs": [
    {
     "data": {
      "text/plain": [
       "'The sum of digits in the number is 14'"
      ]
     },
     "execution_count": 74,
     "metadata": {},
     "output_type": "execute_result"
    }
   ],
   "source": [
    "(f'The sum of digits in the number is {total}')"
   ]
  },
  {
   "cell_type": "markdown",
   "id": "0c947d15-805c-4144-944c-ff5f449c51d3",
   "metadata": {},
   "source": [
    "### 5. Write some code to calculate the hypotenuse of a right angled triangle. Get the side lengths from the user."
   ]
  },
  {
   "cell_type": "code",
   "execution_count": 63,
   "id": "313bc2bd-8c57-43d1-ba54-c578a937649b",
   "metadata": {},
   "outputs": [],
   "source": [
    "a = 6\n",
    "b = 8"
   ]
  },
  {
   "cell_type": "code",
   "execution_count": 64,
   "id": "119d0478-a5c1-4651-ae78-51c735d589da",
   "metadata": {},
   "outputs": [],
   "source": [
    "c = (a**2 + b**2)**0.5"
   ]
  },
  {
   "cell_type": "code",
   "execution_count": 72,
   "id": "6d0a9951-81db-4278-8d18-137e48d9fa81",
   "metadata": {},
   "outputs": [
    {
     "data": {
      "text/plain": [
       "'The length of the hypotenuse is 10.0'"
      ]
     },
     "execution_count": 72,
     "metadata": {},
     "output_type": "execute_result"
    }
   ],
   "source": [
    "(f'The length of the hypotenuse is {c}')"
   ]
  },
  {
   "cell_type": "code",
   "execution_count": null,
   "id": "dcac724a-dbd3-4916-b9eb-82424eb59e02",
   "metadata": {},
   "outputs": [],
   "source": []
  }
 ],
 "metadata": {
  "kernelspec": {
   "display_name": "Python 3 (ipykernel)",
   "language": "python",
   "name": "python3"
  },
  "language_info": {
   "codemirror_mode": {
    "name": "ipython",
    "version": 3
   },
   "file_extension": ".py",
   "mimetype": "text/x-python",
   "name": "python",
   "nbconvert_exporter": "python",
   "pygments_lexer": "ipython3",
   "version": "3.8.13"
  }
 },
 "nbformat": 4,
 "nbformat_minor": 5
}
