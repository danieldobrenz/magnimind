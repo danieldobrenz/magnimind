{
 "cells": [
  {
   "cell_type": "markdown",
   "id": "1318086e-e2f8-4015-99ff-d2abfe44ba26",
   "metadata": {},
   "source": [
    "# String Assignment and Submit"
   ]
  },
  {
   "cell_type": "markdown",
   "id": "c477c0f0-b149-4b3b-9f94-37c79ba0c08d",
   "metadata": {},
   "source": [
    "1. Ask the user to enter their first name and surname in lower case. Change the case to title case and join them together. Display the finished result."
   ]
  },
  {
   "cell_type": "code",
   "execution_count": 18,
   "id": "bbc64b35-f2aa-4b91-b122-5aee349b5826",
   "metadata": {},
   "outputs": [],
   "source": [
    "first_name = 'daniel'\n",
    "sur_name = 'dobrenz'"
   ]
  },
  {
   "cell_type": "code",
   "execution_count": 19,
   "id": "b319d32c-50d7-4db3-a387-84cab047a625",
   "metadata": {},
   "outputs": [],
   "source": [
    "first_name = first_name.capitalize()"
   ]
  },
  {
   "cell_type": "code",
   "execution_count": 20,
   "id": "8d3c4a46-cbf5-4ef9-987b-a8d64e4a50a2",
   "metadata": {},
   "outputs": [],
   "source": [
    "sur_name = sur_name.capitalize()"
   ]
  },
  {
   "cell_type": "code",
   "execution_count": 21,
   "id": "8f710147-36d0-4808-ab6a-a203c0d821c2",
   "metadata": {},
   "outputs": [
    {
     "data": {
      "text/plain": [
       "'Daniel'"
      ]
     },
     "execution_count": 21,
     "metadata": {},
     "output_type": "execute_result"
    }
   ],
   "source": [
    "first_name"
   ]
  },
  {
   "cell_type": "code",
   "execution_count": 22,
   "id": "f834d499-5d48-401c-90ad-315e1967b237",
   "metadata": {},
   "outputs": [
    {
     "data": {
      "text/plain": [
       "'Dobrenz'"
      ]
     },
     "execution_count": 22,
     "metadata": {},
     "output_type": "execute_result"
    }
   ],
   "source": [
    "sur_name"
   ]
  },
  {
   "cell_type": "code",
   "execution_count": 25,
   "id": "fc652a4b-60f7-45f1-8248-075a9b591520",
   "metadata": {},
   "outputs": [
    {
     "data": {
      "text/plain": [
       "'Daniel Dobrenz'"
      ]
     },
     "execution_count": 25,
     "metadata": {},
     "output_type": "execute_result"
    }
   ],
   "source": [
    "'{f} {s}'.format(f=first_name,s=sur_name)"
   ]
  },
  {
   "cell_type": "markdown",
   "id": "e8c91629-0ca3-49bf-9fae-8a91b78b9162",
   "metadata": {},
   "source": [
    "2. Ask the user to type in the first line of a poem Raven by Edgar Allen Poe and display the length of the string. Ask for a starting number and an ending number and then display just that section of the text."
   ]
  },
  {
   "cell_type": "code",
   "execution_count": 10,
   "id": "1b8e3377-5121-4c19-b04f-9231e76d944c",
   "metadata": {},
   "outputs": [],
   "source": [
    "poem_1st_line = 'Deep into that darkness peering'"
   ]
  },
  {
   "cell_type": "code",
   "execution_count": 11,
   "id": "f073558e-689b-455a-ab60-3fda924230e6",
   "metadata": {},
   "outputs": [
    {
     "data": {
      "text/plain": [
       "31"
      ]
     },
     "execution_count": 11,
     "metadata": {},
     "output_type": "execute_result"
    }
   ],
   "source": [
    "len(poem_1st_line)"
   ]
  },
  {
   "cell_type": "code",
   "execution_count": 13,
   "id": "9df46d6f-1686-4b19-84e1-88b246a3b1b5",
   "metadata": {},
   "outputs": [
    {
     "data": {
      "text/plain": [
       "'into that'"
      ]
     },
     "execution_count": 13,
     "metadata": {},
     "output_type": "execute_result"
    }
   ],
   "source": [
    "poem_1st_line[5:14]"
   ]
  },
  {
   "cell_type": "markdown",
   "id": "e7cf974a-ef17-4cc7-a01e-212da3b125b2",
   "metadata": {},
   "source": [
    "3. Removes extra characters from the start and end of a string and explain why you need to remove white spaces while exploring text."
   ]
  },
  {
   "cell_type": "code",
   "execution_count": 27,
   "id": "959e24bc-94da-4f05-b1aa-568bc41c1a88",
   "metadata": {},
   "outputs": [],
   "source": [
    "poem_1st_line = '      Deep into that darkness peering   '"
   ]
  },
  {
   "cell_type": "code",
   "execution_count": 28,
   "id": "fca9caca-0ecc-4e39-b751-18a944970d1b",
   "metadata": {},
   "outputs": [
    {
     "data": {
      "text/plain": [
       "'      Deep into that darkness peering   '"
      ]
     },
     "execution_count": 28,
     "metadata": {},
     "output_type": "execute_result"
    }
   ],
   "source": [
    "poem_1st_line"
   ]
  },
  {
   "cell_type": "code",
   "execution_count": 29,
   "id": "e6bc80bb-6bc6-4c68-8857-159c556b3717",
   "metadata": {},
   "outputs": [
    {
     "data": {
      "text/plain": [
       "'Deep into that darkness peering'"
      ]
     },
     "execution_count": 29,
     "metadata": {},
     "output_type": "execute_result"
    }
   ],
   "source": [
    "poem_1st_line.strip()"
   ]
  },
  {
   "cell_type": "markdown",
   "id": "3f18b163-72a4-434b-bdfd-310d16e989ad",
   "metadata": {},
   "source": [
    "Python processes the spaces as characters. Removing them frees up memory and lets Python process the string more easily ie for comparing, or using it in different operations. "
   ]
  },
  {
   "cell_type": "code",
   "execution_count": null,
   "id": "c6631674-293b-44ac-8fd1-80b062930f7f",
   "metadata": {},
   "outputs": [],
   "source": []
  }
 ],
 "metadata": {
  "kernelspec": {
   "display_name": "Python 3 (ipykernel)",
   "language": "python",
   "name": "python3"
  },
  "language_info": {
   "codemirror_mode": {
    "name": "ipython",
    "version": 3
   },
   "file_extension": ".py",
   "mimetype": "text/x-python",
   "name": "python",
   "nbconvert_exporter": "python",
   "pygments_lexer": "ipython3",
   "version": "3.8.13"
  }
 },
 "nbformat": 4,
 "nbformat_minor": 5
}
